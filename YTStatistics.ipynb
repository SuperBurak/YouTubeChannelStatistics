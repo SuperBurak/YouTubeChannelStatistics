{
  "nbformat": 4,
  "nbformat_minor": 0,
  "metadata": {
    "colab": {
      "provenance": [],
      "authorship_tag": "ABX9TyOKjsNpORh6yK1FIZ+4Jre8",
      "include_colab_link": true
    },
    "kernelspec": {
      "name": "python3",
      "display_name": "Python 3"
    },
    "language_info": {
      "name": "python"
    }
  },
  "cells": [
    {
      "cell_type": "markdown",
      "metadata": {
        "id": "view-in-github",
        "colab_type": "text"
      },
      "source": [
        "<a href=\"https://colab.research.google.com/github/SuperBurak/YouTubeChannelStatistics/blob/main/YTStatistics.ipynb\" target=\"_parent\"><img src=\"https://colab.research.google.com/assets/colab-badge.svg\" alt=\"Open In Colab\"/></a>"
      ]
    },
    {
      "cell_type": "markdown",
      "source": [
        "Import packages"
      ],
      "metadata": {
        "id": "Ma8eprm9Yi3S"
      }
    },
    {
      "cell_type": "code",
      "execution_count": 3,
      "metadata": {
        "id": "BBo6ungDXS-o"
      },
      "outputs": [],
      "source": [
        "import pandas as pd"
      ]
    },
    {
      "cell_type": "markdown",
      "source": [
        "Read the CSV file into a variable"
      ],
      "metadata": {
        "id": "hwvQzRKdY3Sr"
      }
    },
    {
      "cell_type": "code",
      "source": [
        "df = pd.read_csv(\"ytdata.csv\")"
      ],
      "metadata": {
        "id": "YoE8xOwwYgHz"
      },
      "execution_count": 4,
      "outputs": []
    }
  ]
}